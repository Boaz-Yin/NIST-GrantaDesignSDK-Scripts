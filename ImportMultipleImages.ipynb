{
 "cells": [
  {
   "cell_type": "code",
   "execution_count": null,
   "metadata": {
    "collapsed": true
   },
   "outputs": [],
   "source": [
    "%config IPCompleter.greedy=True"
   ]
  },
  {
   "cell_type": "markdown",
   "metadata": {},
   "source": [
    "# Download non standard modules"
   ]
  },
  {
   "cell_type": "code",
   "execution_count": null,
   "metadata": {
    "collapsed": true
   },
   "outputs": [],
   "source": [
    "# !pip install --upgrade pip\n",
    "# !pip install ipywidgets\n",
    "# !pip install pandas\n",
    "# #Install granta libraries"
   ]
  },
  {
   "cell_type": "markdown",
   "metadata": {},
   "source": [
    "# Import required libraries"
   ]
  },
  {
   "cell_type": "code",
   "execution_count": null,
   "metadata": {
    "collapsed": true
   },
   "outputs": [],
   "source": [
    "from __future__ import print_function\n",
    "\n",
    "import datetime\n",
    "\n",
    "from IPython.display import Image\n",
    "from IPython.core.display import HTML\n",
    "\n",
    "import GRANTA_MIScriptingToolkit as gdl\n",
    "from GRANTA_MIScriptingToolkit import GRANTA_Exception\n",
    "from GRANTA_MIScriptingToolkit import GRANTA_Exceptions\n",
    "import getpass\n",
    "\n",
    "from ipywidgets import interact, interactive, fixed, interact_manual\n",
    "import ipywidgets as widgets\n",
    "\n",
    "import os\n",
    "import pandas as pd\n",
    "import sys\n",
    "from tkinter import *\n",
    "from tkinter import filedialog\n",
    "\n",
    "import xml.dom.minidom"
   ]
  },
  {
   "cell_type": "markdown",
   "metadata": {},
   "source": [
    "# Enter credential to access Granta system"
   ]
  },
  {
   "cell_type": "code",
   "execution_count": null,
   "metadata": {},
   "outputs": [],
   "source": [
    "try:\n",
    "    granta_url = 'http://wsancalp01.nist.gov/mi_servicelayer'\n",
    "    login = input(\"Login? :\")\n",
    "    password = getpass.getpass(prompt='Password? : ')\n",
    "    session = gdl.GRANTA_MISession(granta_url, login, password, '')\n",
    "    print(\"Done\")\n",
    "except GRANTA_Exception as e:\n",
    "    print(\"Unexpected error:\", sys.exc_info()[1])\n"
   ]
  },
  {
   "cell_type": "markdown",
   "metadata": {},
   "source": [
    "# Create data holder"
   ]
  },
  {
   "cell_type": "code",
   "execution_count": null,
   "metadata": {
    "collapsed": true,
    "scrolled": true
   },
   "outputs": [],
   "source": [
    "columns = ['File', 'Comments']\n",
    "file_data = pd.DataFrame(columns=columns) "
   ]
  },
  {
   "cell_type": "markdown",
   "metadata": {},
   "source": [
    "# Load utility functions; do utility calls"
   ]
  },
  {
   "cell_type": "code",
   "execution_count": null,
   "metadata": {},
   "outputs": [],
   "source": [
    "def add_file(filepath):\n",
    "    file_data.loc[len(file_data)]=[filepath, \"\"]\n",
    "\n",
    "def edit_comment(row_id, text=\"\"):\n",
    "    if row_id < len(file_data):\n",
    "        file_data[\"Comments\"].loc[row_id] = text\n",
    "\n",
    "def do_import(existingRecord, importAttributeValues, importRecordMode=\"Update\", releaseRecord=True):\n",
    "    \"\"\"\n",
    "    Wrapper for a data import\n",
    "    \"\"\"\n",
    "    newRecordData = gdl.ImportRecord(importRecordMode=importRecordMode,\n",
    "                                     existingRecord=existingRecord,\n",
    "                                     importAttributeValues=importAttributeValues,\n",
    "                                     releaseRecord=releaseRecord)\n",
    "        \n",
    "    request = gdl.SetRecordAttributesRequest(importRecords=[newRecordData])\n",
    "    response = session.dataImportService.SetRecordAttributes(request)\n",
    "    return response\n",
    "\n",
    "def find_record(gdlSession, dbKey, tableName, recordName):\n",
    "    \"\"\" \n",
    "    Finds a record by name; returns first ranked item if multiple results\n",
    "    :returns: :py:mod:`SearchResult <GRANTA_MIScriptingToolkit.SearchResult>`\n",
    "    \"\"\"\n",
    "    req = gdl.RecordNameSearchRequest(caseSensitiveNames=False, recordName=recordName, populateGUIDs=True, searchShortNames=True, searchFullNames=True)\n",
    "    req.table = gdl.TableReference(DBKey=dbKey, name=tableName)\n",
    "    resp = gdlSession.searchService.RecordNameSearch(req)\n",
    "    return resp.searchResults[0]\n",
    "\n",
    "def get_record_data(session, recordRef, attribs):\n",
    "    \"\"\" \n",
    "    Wrapper for a data Export\n",
    "    Return a dictionary of record attributes (retrieved from an export), ie, name -> AttributeValue\n",
    "    \"\"\"\n",
    "    exp = session.dataExportService\n",
    "    req = gdl.GetRecordAttributesByRefRequest()\n",
    "    req.recordReferences = [recordRef]\n",
    "    req.attributeReferences = attribs\n",
    "    resp = exp.GetRecordAttributesByRef(req)\n",
    "    data = resp.recordData[0]\n",
    "    return {av.attributeName : av for av in data.attributeValues}\n",
    "\n",
    "def printn(soap_response):\n",
    "    \"\"\"\n",
    "    Pretty print xml document\n",
    "    \"\"\"\n",
    "    xml_response = xml.dom.minidom.parseString(soap_response) \n",
    "    pretty_xml_as_string = xml_response.toprettyxml()\n",
    "    print(pretty_xml_as_string)\n",
    "\n",
    "def now_time_string():\n",
    "    \"\"\"\n",
    "    Return date and time as a string\n",
    "    \"\"\"\n",
    "    return datetime.datetime.now().strftime(\"%d/%m/%Y %H:%M:%S\")\n",
    "\n",
    "def read_binary_data(filepath):\n",
    "    \"\"\"\n",
    "    Returns binary data content of specified file\n",
    "    \"\"\"\n",
    "    with open(filepath, \"rb\") as bin_file:\n",
    "        return bin_file.read()\n",
    "\n",
    "pd.set_option('display.expand_frame_repr', True)\n",
    "pd.set_option('display.max_colwidth', -1)\n",
    "print(\"Function loaded\")"
   ]
  },
  {
   "cell_type": "markdown",
   "metadata": {},
   "source": [
    "# Create widgets"
   ]
  },
  {
   "cell_type": "code",
   "execution_count": null,
   "metadata": {},
   "outputs": [],
   "source": [
    "dbKey_widget = widgets.Text(\n",
    "    value='MI_NIST_NCAL',\n",
    "    placeholder='Enter db key',\n",
    "    description='Database key: ',\n",
    "    disabled=False\n",
    ")\n",
    "\n",
    "tableName_widget = widgets.Text(\n",
    "    value='Experiments',\n",
    "    placeholder='Enter table name',\n",
    "    description='Table name: ',\n",
    "    disabled=False\n",
    ")\n",
    "\n",
    "recordName_widget = widgets.Text(\n",
    "    value='E999999-ZZZ-999',\n",
    "    placeholder='Enter record name',\n",
    "    description='Record name: ',\n",
    "    disabled=False\n",
    ")\n",
    "\n",
    "search_button = widgets.Button(description=\"Search\")\n",
    "\n",
    "# Example folder = \"E999999-ZZZ-999\", \"Instron4465-5\", \"HSR\"\n",
    "folderName_widget = widgets.Text(\n",
    "    value='E999999-ZZZ-999',\n",
    "    placeholder='Enter folder name',\n",
    "    description='Folder name: ',\n",
    "    disabled=False\n",
    ")\n",
    "\n",
    "tree_record_lookup_button = widgets.Button(description=\"Search tree\")\n",
    "\n",
    "insert_location_widget = widgets.Select(\n",
    "    options=['Photos', 'Other files'],\n",
    "    value='Photos',\n",
    "    # rows=10,\n",
    "    description='Insert location:',\n",
    "    disabled=False\n",
    ")\n",
    "\n",
    "select_location_button = widgets.Button(description=\"Set insert location\")\n",
    "print(\"Widget loaded\")"
   ]
  },
  {
   "cell_type": "markdown",
   "metadata": {},
   "source": [
    "# Select image files"
   ]
  },
  {
   "cell_type": "code",
   "execution_count": null,
   "metadata": {
    "scrolled": false
   },
   "outputs": [],
   "source": [
    "root = Tk()\n",
    "root.withdraw()\n",
    "root.call('wm', 'attributes', '.', '-topmost', True)\n",
    "\n",
    "\n",
    "file_selection = filedialog.askopenfilename(\n",
    "    multiple=True, \n",
    "    filetypes = ((\"image files\", \"*.jpg;*.jpeg;*.tiff;*.png;*.gif\") ,(\"All files\", \"*.*\")))\n",
    "\n",
    "%gui tk\n",
    "\n",
    "print(\"Files selected\")\n",
    "for image_file in file_selection:\n",
    "    print(image_file)\n",
    "    add_file(image_file)"
   ]
  },
  {
   "cell_type": "markdown",
   "metadata": {},
   "source": [
    "# Visualize data holder"
   ]
  },
  {
   "cell_type": "code",
   "execution_count": null,
   "metadata": {
    "scrolled": true
   },
   "outputs": [],
   "source": [
    "file_data"
   ]
  },
  {
   "cell_type": "markdown",
   "metadata": {},
   "source": [
    "# Edit comments"
   ]
  },
  {
   "cell_type": "code",
   "execution_count": null,
   "metadata": {},
   "outputs": [],
   "source": [
    "items = list(map(str, range(len(file_data)) if len(file_data) != 0 else '0'))\n",
    "comment_select_widget = widgets.Select(\n",
    "    options=items,\n",
    "    description='Comment location',\n",
    ")\n",
    "\n",
    "def view_file_id(photo_id=''):\n",
    "    return photo_id\n",
    "\n",
    "comment_text_widget = widgets.Textarea(\n",
    "    value='',\n",
    "    placeholder='Enter comment',\n",
    "    description='Comments: ',\n",
    "    disabled=False\n",
    ")\n",
    "\n",
    "comment_update_button = widgets.Button(description=\"Set comment\")\n",
    "aa = interactive(view_file_id, photo_id=comment_select_widget)\n",
    "\n",
    "display(widgets.HBox([aa, comment_text_widget, comment_update_button]))\n",
    "\n",
    "\n",
    "def update_comment_button_clicked(b):\n",
    "    print(\"Comment set:\")\n",
    "    if (comment_text_widget.value != \"\"):\n",
    "        edit_comment(int(comment_select_widget.value), comment_text_widget.value)\n",
    "    print(os.path.split(file_data.loc[int(comment_select_widget.value)]['File'])[1]) \n",
    "    print(file_data.loc[int(comment_select_widget.value)]['Comments'])\n",
    "\n",
    "comment_update_button.on_click(update_comment_button_clicked)\n"
   ]
  },
  {
   "cell_type": "code",
   "execution_count": null,
   "metadata": {
    "scrolled": true
   },
   "outputs": [],
   "source": [
    "file_data"
   ]
  },
  {
   "cell_type": "markdown",
   "metadata": {},
   "source": [
    "# Selection of insert location"
   ]
  },
  {
   "cell_type": "code",
   "execution_count": null,
   "metadata": {},
   "outputs": [],
   "source": [
    "insert_location_box = widgets.VBox([dbKey_widget, tableName_widget, recordName_widget, insert_location_widget, select_location_button])\n",
    "display(insert_location_box)\n",
    "\n",
    "def on_select_location_button_clicked(wdgt):\n",
    "    dbKey = dbKey_widget.value\n",
    "    tableName = tableName_widget.value\n",
    "    recordName = recordName_widget.value \n",
    "    folder = insert_location_widget.value\n",
    "    print(\"Location set\")\n",
    "    print(\"dbKey:{0}, tableName:{1}, folder:{2}, recordName:{3}\".format(dbKey, tableName, recordName, folder))\n",
    "\n",
    "select_location_button.on_click(on_select_location_button_clicked)"
   ]
  },
  {
   "cell_type": "markdown",
   "metadata": {},
   "source": [
    "Create a new import attribute that contains these tabular data values."
   ]
  },
  {
   "cell_type": "code",
   "execution_count": null,
   "metadata": {},
   "outputs": [],
   "source": [
    "def importFiles():\n",
    "    dbKey = dbKey_widget.value\n",
    "    tableName = tableName_widget.value\n",
    "    recordName = recordName_widget.value \n",
    "    folder = insert_location_widget.value\n",
    "    \n",
    "    target = find_record(session, dbKey, tableName, recordName).recordReference\n",
    "    print(\"dbKey:{0}, tableName:{1}, folder:{2}, recordName:{3}\\n\".format(dbKey, tableName, recordName, folder))\n",
    "\n",
    "    importTable = gdl.TabularDataType()\n",
    "    newPicture = None\n",
    "    newText = None\n",
    "\n",
    "    if folder == \"Photos\":\n",
    "        importTable.AddColumn(\"Photos\")\n",
    "    else:\n",
    "        importTable.AddColumn(\"Files\")\n",
    "\n",
    "    importTable.AddColumn(\"Comments\")\n",
    "\n",
    "    for doc in file_data.itertuples():\n",
    "        print(\"Loading {0}\\n\".format(doc.File))\n",
    "\n",
    "        fileName = os.path.split(doc.File)[1]\n",
    "\n",
    "        if folder == \"Photos\":\n",
    "            contentType = \"PICT\"\n",
    "            newPicture = gdl.PictureDataType(contentType=contentType)\n",
    "        else:\n",
    "            contentType = \"FILE\"\n",
    "            newPicture = gdl.FileDataType(contentType=contentType, fileName=fileName)\n",
    "\n",
    "        newPicture.ModifyBinaryData(read_binary_data(doc.File))\n",
    "        # newText = gdl.LongTextDataType(value=doc.Comments if len(doc.Comments) != 0 else \"-\")\n",
    "        newText = gdl.LongTextDataType(value=doc.Comments)\n",
    "\n",
    "        changetype = gdl.TabularDataType.ChangeType.Append\n",
    "        newRow = importTable.CreateUpdateRow(changetype, target.identity)\n",
    "        newRow.cells[0].data = newPicture\n",
    "        newRow.cells[1].data = newText\n",
    "\n",
    "    attributeRef = gdl.AttributeReference(name=folder, partialTableReference=gdl.PartialTableReference(tableName=tableName), DBKey=dbKey)\n",
    "    importAttribute = gdl.ImportAttributeValue(tabularDataValue=importTable, attributeReference=attributeRef)\n",
    "\n",
    "    target = find_record(session, dbKey, tableName, recordName).recordReference\n",
    "\n",
    "    import_request_response = do_import(existingRecord=target, importAttributeValues=[importAttribute])\n",
    "    #     importedRecord = import_request_response.recordsImported[0]\n",
    "    #     print(\"New record imported: {0}.\".format(importedRecord.shortName))\n",
    "\n",
    "    printn(import_request_response.serviceLayerResponse.responseMessage) \n",
    "\n",
    "importFiles()"
   ]
  },
  {
   "cell_type": "code",
   "execution_count": null,
   "metadata": {
    "collapsed": true
   },
   "outputs": [],
   "source": []
  }
 ],
 "metadata": {
  "kernelspec": {
   "display_name": "Python 3",
   "language": "python",
   "name": "python3"
  },
  "language_info": {
   "codemirror_mode": {
    "name": "ipython",
    "version": 3
   },
   "file_extension": ".py",
   "mimetype": "text/x-python",
   "name": "python",
   "nbconvert_exporter": "python",
   "pygments_lexer": "ipython3",
   "version": "3.5.3"
  }
 },
 "nbformat": 4,
 "nbformat_minor": 2
}
