{
 "cells": [
  {
   "cell_type": "code",
   "execution_count": null,
   "metadata": {
    "collapsed": true
   },
   "outputs": [],
   "source": [
    "%config IPCompleter.greedy=True"
   ]
  },
  {
   "cell_type": "markdown",
   "metadata": {},
   "source": [
    "# Import required libraries"
   ]
  },
  {
   "cell_type": "code",
   "execution_count": null,
   "metadata": {
    "collapsed": true
   },
   "outputs": [],
   "source": [
    "from __future__ import print_function\n",
    "\n",
    "import base64\n",
    "import datetime\n",
    "\n",
    "from IPython.display import Image\n",
    "from IPython.core.display import HTML\n",
    "\n",
    "import GRANTA_MIScriptingToolkit as gdl\n",
    "from GRANTA_MIScriptingToolkit import GRANTA_Exception\n",
    "from GRANTA_MIScriptingToolkit import GRANTA_Exceptions\n",
    "import getpass\n",
    "\n",
    "import os\n",
    "import sys\n",
    "\n",
    "import xml.dom.minidom"
   ]
  },
  {
   "cell_type": "markdown",
   "metadata": {},
   "source": [
    "# Enter credential to access Granta system"
   ]
  },
  {
   "cell_type": "code",
   "execution_count": null,
   "metadata": {},
   "outputs": [],
   "source": [
    "try:\n",
    "    granta_url = 'http://wsancalp01.nist.gov/mi_servicelayer'\n",
    "    login = input(\"Type login then Enter :\")\n",
    "    password = getpass.getpass(prompt='Password? : ')\n",
    "    session = gdl.GRANTA_MISession(granta_url, login, password, '')\n",
    "    print(\"Done\")\n",
    "except GRANTA_Exception as e:\n",
    "    print(\"Unexpected error:\", sys.exc_info()[1])\n"
   ]
  },
  {
   "cell_type": "markdown",
   "metadata": {},
   "source": [
    "# Load utility functions"
   ]
  },
  {
   "cell_type": "code",
   "execution_count": null,
   "metadata": {},
   "outputs": [],
   "source": [
    "def do_import(existingRecord, importAttributeValues, importRecordMode=\"Update\", releaseRecord=True):\n",
    "    \"\"\"\n",
    "    Wrapper for a data import\n",
    "    \"\"\"\n",
    "    newRecordData = gdl.ImportRecord(importRecordMode=importRecordMode,\n",
    "                                     existingRecord=existingRecord,\n",
    "                                     importAttributeValues=importAttributeValues,\n",
    "                                     releaseRecord=releaseRecord)\n",
    "        \n",
    "    request = gdl.SetRecordAttributesRequest(importRecords=[newRecordData])\n",
    "    response = session.dataImportService.SetRecordAttributes(request)\n",
    "    return response\n",
    "\n",
    "def find_record(gdlSession, dbKey, tableName, recordName):\n",
    "    \"\"\" \n",
    "    Finds a record by name; returns first ranked item if multiple results\n",
    "    :returns: :py:mod:`SearchResult <GRANTA_MIScriptingToolkit.SearchResult>`\n",
    "    \"\"\"\n",
    "    req = gdl.RecordNameSearchRequest(caseSensitiveNames=False, recordName=recordName, populateGUIDs=True, searchShortNames=True, searchFullNames=True)\n",
    "    req.table = gdl.TableReference(DBKey=dbKey, name=tableName)\n",
    "    resp = gdlSession.searchService.RecordNameSearch(req)\n",
    "    return resp.searchResults[0]\n",
    "\n",
    "def get_record_data(session, recordRef, attribs):\n",
    "    \"\"\" \n",
    "    Wrapper for a data Export\n",
    "    Return a dictionary of record attributes (retrieved from an export), ie, name -> AttributeValue\n",
    "    \"\"\"\n",
    "    exp = session.dataExportService\n",
    "    req = gdl.GetRecordAttributesByRefRequest()\n",
    "    req.recordReferences = [recordRef]\n",
    "    req.attributeReferences = attribs\n",
    "    resp = exp.GetRecordAttributesByRef(req)\n",
    "    data = resp.recordData[0]\n",
    "    return {av.attributeName : av for av in data.attributeValues}\n",
    "\n",
    "def printn(soap_response):\n",
    "    \"\"\"\n",
    "    Pretty print xml document\n",
    "    \"\"\"\n",
    "    xml_response = xml.dom.minidom.parseString(soap_response) \n",
    "    pretty_xml_as_string = xml_response.toprettyxml()\n",
    "    print(pretty_xml_as_string)\n",
    "\n",
    "def now_time_string():\n",
    "    \"\"\"\n",
    "    Return date and time as a string\n",
    "    \"\"\"\n",
    "    return datetime.datetime.now().strftime(\"%d/%m/%Y %H:%M:%S\")\n",
    "\n",
    "def read_binary_data(filepath):\n",
    "    \"\"\"\n",
    "    Returns binary data content of specified file\n",
    "    \"\"\"\n",
    "    with open(filepath, \"rb\") as bin_file:\n",
    "        return bin_file.read()\n",
    "print(\"Function loaded\")"
   ]
  },
  {
   "cell_type": "markdown",
   "metadata": {},
   "source": [
    "# Selection of insert location\n",
    " - 'folder' is called 'attribute' in Granta Design's terminology"
   ]
  },
  {
   "cell_type": "code",
   "execution_count": null,
   "metadata": {
    "scrolled": true
   },
   "outputs": [],
   "source": [
    "dbKey = \"MI_NIST_NCAL\"\n",
    "tableName = \"Experiments\"\n",
    "folder = \"Photos\"  # \"Other files\"\n",
    "recordName = \"E999999-ZZZ-999\" \n",
    "\n",
    "print(\"dbKey: {0},\\ntableName: {1},\\nfolder: {2},\\nrecordName: {3}\".format(dbKey, tableName, folder, recordName))"
   ]
  },
  {
   "cell_type": "markdown",
   "metadata": {},
   "source": [
    "# Selection of data"
   ]
  },
  {
   "cell_type": "code",
   "execution_count": null,
   "metadata": {
    "scrolled": false
   },
   "outputs": [],
   "source": [
    "#filepath = \"C:\\\\Users\\\\marieros\\\\OneDrive - National Institute of Standards and Technology (NIST)\\\\Granta\\\\notebooks\\\\test_images\\\\test_image.jpg\"\n",
    "#comment_string = \"this is a comment regarding the file _ created \" + now_time_string()\n",
    "\n",
    "filepath = \"C:\\\\Users\\\\creuzige\\\\Downloads\\\\NIST_logo.png\"\n",
    "comment_string = \"Added by Adam \" + now_time_string()\n",
    "\n",
    "display(Image(filename = filepath, width=200, height=200))\n",
    "\n",
    "print(comment_string)"
   ]
  },
  {
   "cell_type": "markdown",
   "metadata": {},
   "source": [
    "# Import\n",
    "\n",
    "- Appends to existing record (see changetype)\n",
    "- http://support.grantadesign.com/resources/miscriptingtoolkit/python/1.4/index.htm#t=modules%2FTabularDataType.html\n",
    "- Options for changetype are: InsertBefore, Append, Update, Delete"
   ]
  },
  {
   "cell_type": "code",
   "execution_count": null,
   "metadata": {},
   "outputs": [],
   "source": [
    "target = find_record(session, dbKey, tableName, recordName).recordReference\n",
    "\n",
    "importTable = gdl.TabularDataType()\n",
    "newPicture = None\n",
    "newText = None\n",
    "\n",
    "contentType = \"FILE\"\n",
    "fileName = os.path.split(filepath)[1]\n",
    "\n",
    "if folder == \"Photos\":\n",
    "    importTable.AddColumn(\"Photos\")\n",
    "    newPicture = gdl.PictureDataType(contentType=contentType)\n",
    "else:\n",
    "    importTable.AddColumn(\"Files\")\n",
    "    newPicture = gdl.FileDataType(contentType=contentType, fileName=fileName)\n",
    "\n",
    "importTable.AddColumn(\"Comments\")\n",
    "\n",
    "newPicture.ModifyBinaryData(read_binary_data(filepath))\n",
    "newText = gdl.LongTextDataType(value=comment_string)\n",
    "\n",
    "\n",
    "changetype = gdl.TabularDataType.ChangeType.Append\n",
    "newRow = importTable.CreateUpdateRow(changetype, target.identity)\n",
    "newRow.cells[0].data = newPicture\n",
    "newRow.cells[1].data = newText\n",
    "\n",
    "attributeRef = gdl.AttributeReference(name=folder, partialTableReference=gdl.PartialTableReference(tableName=tableName), DBKey=dbKey)\n",
    "importAttribute = gdl.ImportAttributeValue(tabularDataValue=importTable, attributeReference=attributeRef)\n",
    "\n",
    "import_request_response = do_import(existingRecord=target, importAttributeValues=[importAttribute])\n",
    "importedRecord = import_request_response.recordsImported[0]\n",
    "\n",
    "print(\"New record imported: {0}.\".format(importedRecord.shortName))\n",
    "\n",
    "print(\"\\nResponse:\")\n",
    "printn(import_request_response.serviceLayerResponse.responseMessage) \n"
   ]
  },
  {
   "cell_type": "markdown",
   "metadata": {},
   "source": [
    "# Retrieval\n",
    " - You will need to edit the numeric location of the data in the HTML call below, based on the response"
   ]
  },
  {
   "cell_type": "code",
   "execution_count": null,
   "metadata": {},
   "outputs": [],
   "source": [
    "importedRef = importedRecord.recordReference\n",
    "data = get_record_data(session, importedRef, [attributeRef])\n",
    "\n",
    "dataExportRequest = gdl.GetRecordAttributesByRefRequest(recordReferences = [importedRef], attributeReferences=[attributeRef])\n",
    "dataExportResponse = session.dataExportService.GetRecordAttributesByRef(dataExportRequest)\n",
    "soap_response = dataExportResponse.serviceLayerResponse.responseMessage\n",
    "printn(soap_response)"
   ]
  },
  {
   "cell_type": "code",
   "execution_count": null,
   "metadata": {},
   "outputs": [],
   "source": [
    "HTML('<img src=\"http://wsancalp01.nist.gov/mi_servicelayer/SingleDatum.svc/databases/MI_NIST_NCAL/data/8566225\" />')"
   ]
  },
  {
   "cell_type": "code",
   "execution_count": null,
   "metadata": {
    "collapsed": true
   },
   "outputs": [],
   "source": []
  }
 ],
 "metadata": {
  "kernelspec": {
   "display_name": "Python 3",
   "language": "python",
   "name": "python3"
  },
  "language_info": {
   "codemirror_mode": {
    "name": "ipython",
    "version": 3
   },
   "file_extension": ".py",
   "mimetype": "text/x-python",
   "name": "python",
   "nbconvert_exporter": "python",
   "pygments_lexer": "ipython3",
   "version": "3.5.3"
  }
 },
 "nbformat": 4,
 "nbformat_minor": 2
}
